{
 "cells": [
  {
   "cell_type": "markdown",
   "metadata": {},
   "source": [
    "# The intent of this notebook is to familiarize ourselves with the data, do some exploratory analysis and to construct timeseries and other data for further analysis by the team"
   ]
  },
  {
   "cell_type": "code",
   "execution_count": 26,
   "metadata": {
    "collapsed": true
   },
   "outputs": [],
   "source": [
    "%matplotlib inline\n",
    "\n",
    "import numpy as np\n",
    "import pandas as pd\n",
    "import matplotlib.pyplot as plt\n",
    "import pickle\n",
    "import seaborn as sns\n",
    "import datetime\n",
    "from mpl_toolkits.basemap import Basemap\n",
    "\n",
    "import prep_data\n",
    "\n",
    "# import findspark\n",
    "# findspark.init()\n",
    "# import pyspark\n",
    "# sc = pyspark.SparkContext(appName=\"Spark1\")"
   ]
  },
  {
   "cell_type": "markdown",
   "metadata": {},
   "source": [
    "### Loading the data with some initial cleaning (h/t CS109Hubway for getting me started on this and for having the data loaded to github already)"
   ]
  },
  {
   "cell_type": "code",
   "execution_count": 2,
   "metadata": {
    "collapsed": false
   },
   "outputs": [
    {
     "data": {
      "text/html": [
       "<div>\n",
       "<table border=\"1\" class=\"dataframe\">\n",
       "  <thead>\n",
       "    <tr style=\"text-align: right;\">\n",
       "      <th></th>\n",
       "      <th>id</th>\n",
       "      <th>terminal</th>\n",
       "      <th>station</th>\n",
       "      <th>municipal</th>\n",
       "      <th>lat</th>\n",
       "      <th>lng</th>\n",
       "      <th>status</th>\n",
       "    </tr>\n",
       "  </thead>\n",
       "  <tbody>\n",
       "    <tr>\n",
       "      <th>0</th>\n",
       "      <td>3</td>\n",
       "      <td>B32006</td>\n",
       "      <td>Colleges of the Fenway</td>\n",
       "      <td>Boston</td>\n",
       "      <td>42.340021</td>\n",
       "      <td>-71.100812</td>\n",
       "      <td>Existing</td>\n",
       "    </tr>\n",
       "    <tr>\n",
       "      <th>1</th>\n",
       "      <td>4</td>\n",
       "      <td>C32000</td>\n",
       "      <td>Tremont St. at Berkeley St.</td>\n",
       "      <td>Boston</td>\n",
       "      <td>42.345392</td>\n",
       "      <td>-71.069616</td>\n",
       "      <td>Existing</td>\n",
       "    </tr>\n",
       "    <tr>\n",
       "      <th>2</th>\n",
       "      <td>5</td>\n",
       "      <td>B32012</td>\n",
       "      <td>Northeastern U / North Parking Lot</td>\n",
       "      <td>Boston</td>\n",
       "      <td>42.341814</td>\n",
       "      <td>-71.090179</td>\n",
       "      <td>Existing</td>\n",
       "    </tr>\n",
       "    <tr>\n",
       "      <th>3</th>\n",
       "      <td>6</td>\n",
       "      <td>D32000</td>\n",
       "      <td>Cambridge St. at Joy St.</td>\n",
       "      <td>Boston</td>\n",
       "      <td>42.361285</td>\n",
       "      <td>-71.065140</td>\n",
       "      <td>Existing</td>\n",
       "    </tr>\n",
       "    <tr>\n",
       "      <th>4</th>\n",
       "      <td>7</td>\n",
       "      <td>A32000</td>\n",
       "      <td>Fan Pier</td>\n",
       "      <td>Boston</td>\n",
       "      <td>42.353412</td>\n",
       "      <td>-71.044624</td>\n",
       "      <td>Existing</td>\n",
       "    </tr>\n",
       "  </tbody>\n",
       "</table>\n",
       "</div>"
      ],
      "text/plain": [
       "   id terminal                             station municipal        lat  \\\n",
       "0   3   B32006              Colleges of the Fenway    Boston  42.340021   \n",
       "1   4   C32000         Tremont St. at Berkeley St.    Boston  42.345392   \n",
       "2   5   B32012  Northeastern U / North Parking Lot    Boston  42.341814   \n",
       "3   6   D32000            Cambridge St. at Joy St.    Boston  42.361285   \n",
       "4   7   A32000                            Fan Pier    Boston  42.353412   \n",
       "\n",
       "         lng    status  \n",
       "0 -71.100812  Existing  \n",
       "1 -71.069616  Existing  \n",
       "2 -71.090179  Existing  \n",
       "3 -71.065140  Existing  \n",
       "4 -71.044624  Existing  "
      ]
     },
     "execution_count": 2,
     "metadata": {},
     "output_type": "execute_result"
    }
   ],
   "source": [
    "stations_df = prep_data.stations('https://raw.githubusercontent.com/CS109Hubway/classp/master/data/hubway_stations.csv')\n",
    "stations_df.head()"
   ]
  },
  {
   "cell_type": "code",
   "execution_count": 3,
   "metadata": {
    "collapsed": false
   },
   "outputs": [
    {
     "data": {
      "text/plain": [
       "(142, 7)"
      ]
     },
     "execution_count": 3,
     "metadata": {},
     "output_type": "execute_result"
    }
   ],
   "source": [
    "stations_df.shape"
   ]
  },
  {
   "cell_type": "code",
   "execution_count": 4,
   "metadata": {
    "collapsed": false
   },
   "outputs": [
    {
     "data": {
      "text/html": [
       "<div>\n",
       "<table border=\"1\" class=\"dataframe\">\n",
       "  <thead>\n",
       "    <tr style=\"text-align: right;\">\n",
       "      <th></th>\n",
       "      <th>index</th>\n",
       "      <th>seq_id</th>\n",
       "      <th>hubway_id</th>\n",
       "      <th>status</th>\n",
       "      <th>duration</th>\n",
       "      <th>start_date</th>\n",
       "      <th>strt_statn</th>\n",
       "      <th>end_date</th>\n",
       "      <th>end_statn</th>\n",
       "      <th>bike_nr</th>\n",
       "      <th>...</th>\n",
       "      <th>st_hour</th>\n",
       "      <th>end_hour</th>\n",
       "      <th>st_minute</th>\n",
       "      <th>end_minute</th>\n",
       "      <th>st_month</th>\n",
       "      <th>end_month</th>\n",
       "      <th>st_daydate</th>\n",
       "      <th>end_daydate</th>\n",
       "      <th>st_weekday</th>\n",
       "      <th>end_weekday</th>\n",
       "    </tr>\n",
       "  </thead>\n",
       "  <tbody>\n",
       "    <tr>\n",
       "      <th>0</th>\n",
       "      <td>140521</td>\n",
       "      <td>140522</td>\n",
       "      <td>157655</td>\n",
       "      <td>Closed</td>\n",
       "      <td>189</td>\n",
       "      <td>2012-03-13 18:31:00</td>\n",
       "      <td>29.0</td>\n",
       "      <td>2012-03-13 18:34:00</td>\n",
       "      <td>18.0</td>\n",
       "      <td>B00094</td>\n",
       "      <td>...</td>\n",
       "      <td>18</td>\n",
       "      <td>18</td>\n",
       "      <td>1111</td>\n",
       "      <td>1114</td>\n",
       "      <td>3</td>\n",
       "      <td>3</td>\n",
       "      <td>2012-03-13</td>\n",
       "      <td>2012-03-13</td>\n",
       "      <td>1</td>\n",
       "      <td>1</td>\n",
       "    </tr>\n",
       "    <tr>\n",
       "      <th>1</th>\n",
       "      <td>140522</td>\n",
       "      <td>140524</td>\n",
       "      <td>157657</td>\n",
       "      <td>Closed</td>\n",
       "      <td>704</td>\n",
       "      <td>2012-03-15 00:00:00</td>\n",
       "      <td>40.0</td>\n",
       "      <td>2012-03-15 00:12:00</td>\n",
       "      <td>40.0</td>\n",
       "      <td>B00082</td>\n",
       "      <td>...</td>\n",
       "      <td>0</td>\n",
       "      <td>0</td>\n",
       "      <td>0</td>\n",
       "      <td>12</td>\n",
       "      <td>3</td>\n",
       "      <td>3</td>\n",
       "      <td>2012-03-15</td>\n",
       "      <td>2012-03-15</td>\n",
       "      <td>3</td>\n",
       "      <td>3</td>\n",
       "    </tr>\n",
       "    <tr>\n",
       "      <th>2</th>\n",
       "      <td>140523</td>\n",
       "      <td>140523</td>\n",
       "      <td>157656</td>\n",
       "      <td>Closed</td>\n",
       "      <td>1700</td>\n",
       "      <td>2012-03-15 00:00:00</td>\n",
       "      <td>7.0</td>\n",
       "      <td>2012-03-15 00:28:00</td>\n",
       "      <td>15.0</td>\n",
       "      <td>B00603</td>\n",
       "      <td>...</td>\n",
       "      <td>0</td>\n",
       "      <td>0</td>\n",
       "      <td>0</td>\n",
       "      <td>28</td>\n",
       "      <td>3</td>\n",
       "      <td>3</td>\n",
       "      <td>2012-03-15</td>\n",
       "      <td>2012-03-15</td>\n",
       "      <td>3</td>\n",
       "      <td>3</td>\n",
       "    </tr>\n",
       "    <tr>\n",
       "      <th>3</th>\n",
       "      <td>140524</td>\n",
       "      <td>140525</td>\n",
       "      <td>157658</td>\n",
       "      <td>Closed</td>\n",
       "      <td>1411</td>\n",
       "      <td>2012-03-15 00:00:00</td>\n",
       "      <td>41.0</td>\n",
       "      <td>2012-03-15 00:24:00</td>\n",
       "      <td>36.0</td>\n",
       "      <td>B00278</td>\n",
       "      <td>...</td>\n",
       "      <td>0</td>\n",
       "      <td>0</td>\n",
       "      <td>0</td>\n",
       "      <td>24</td>\n",
       "      <td>3</td>\n",
       "      <td>3</td>\n",
       "      <td>2012-03-15</td>\n",
       "      <td>2012-03-15</td>\n",
       "      <td>3</td>\n",
       "      <td>3</td>\n",
       "    </tr>\n",
       "    <tr>\n",
       "      <th>4</th>\n",
       "      <td>140525</td>\n",
       "      <td>140526</td>\n",
       "      <td>157659</td>\n",
       "      <td>Closed</td>\n",
       "      <td>251</td>\n",
       "      <td>2012-03-15 00:03:00</td>\n",
       "      <td>43.0</td>\n",
       "      <td>2012-03-15 00:07:00</td>\n",
       "      <td>40.0</td>\n",
       "      <td>B00076</td>\n",
       "      <td>...</td>\n",
       "      <td>0</td>\n",
       "      <td>0</td>\n",
       "      <td>3</td>\n",
       "      <td>7</td>\n",
       "      <td>3</td>\n",
       "      <td>3</td>\n",
       "      <td>2012-03-15</td>\n",
       "      <td>2012-03-15</td>\n",
       "      <td>3</td>\n",
       "      <td>3</td>\n",
       "    </tr>\n",
       "  </tbody>\n",
       "</table>\n",
       "<p>5 rows × 24 columns</p>\n",
       "</div>"
      ],
      "text/plain": [
       "    index  seq_id  hubway_id  status  duration          start_date  \\\n",
       "0  140521  140522     157655  Closed       189 2012-03-13 18:31:00   \n",
       "1  140522  140524     157657  Closed       704 2012-03-15 00:00:00   \n",
       "2  140523  140523     157656  Closed      1700 2012-03-15 00:00:00   \n",
       "3  140524  140525     157658  Closed      1411 2012-03-15 00:00:00   \n",
       "4  140525  140526     157659  Closed       251 2012-03-15 00:03:00   \n",
       "\n",
       "   strt_statn            end_date  end_statn bike_nr     ...      st_hour  \\\n",
       "0        29.0 2012-03-13 18:34:00       18.0  B00094     ...           18   \n",
       "1        40.0 2012-03-15 00:12:00       40.0  B00082     ...            0   \n",
       "2         7.0 2012-03-15 00:28:00       15.0  B00603     ...            0   \n",
       "3        41.0 2012-03-15 00:24:00       36.0  B00278     ...            0   \n",
       "4        43.0 2012-03-15 00:07:00       40.0  B00076     ...            0   \n",
       "\n",
       "  end_hour  st_minute end_minute  st_month  end_month  st_daydate  \\\n",
       "0       18       1111       1114         3          3  2012-03-13   \n",
       "1        0          0         12         3          3  2012-03-15   \n",
       "2        0          0         28         3          3  2012-03-15   \n",
       "3        0          0         24         3          3  2012-03-15   \n",
       "4        0          3          7         3          3  2012-03-15   \n",
       "\n",
       "   end_daydate  st_weekday  end_weekday  \n",
       "0   2012-03-13           1            1  \n",
       "1   2012-03-15           3            3  \n",
       "2   2012-03-15           3            3  \n",
       "3   2012-03-15           3            3  \n",
       "4   2012-03-15           3            3  \n",
       "\n",
       "[5 rows x 24 columns]"
      ]
     },
     "execution_count": 4,
     "metadata": {},
     "output_type": "execute_result"
    }
   ],
   "source": [
    "trips_df = prep_data.trips('https://raw.githubusercontent.com/CS109Hubway/classp/master/data/tripsthrough2012.csv')\n",
    "trips_df.head()"
   ]
  },
  {
   "cell_type": "code",
   "execution_count": 5,
   "metadata": {
    "collapsed": false
   },
   "outputs": [
    {
     "data": {
      "text/html": [
       "<div>\n",
       "<table border=\"1\" class=\"dataframe\">\n",
       "  <thead>\n",
       "    <tr style=\"text-align: right;\">\n",
       "      <th></th>\n",
       "      <th>index</th>\n",
       "      <th>seq_id</th>\n",
       "      <th>hubway_id</th>\n",
       "      <th>status</th>\n",
       "      <th>duration</th>\n",
       "      <th>start_date</th>\n",
       "      <th>strt_statn</th>\n",
       "      <th>end_date</th>\n",
       "      <th>end_statn</th>\n",
       "      <th>bike_nr</th>\n",
       "      <th>...</th>\n",
       "      <th>st_hour</th>\n",
       "      <th>end_hour</th>\n",
       "      <th>st_minute</th>\n",
       "      <th>end_minute</th>\n",
       "      <th>st_month</th>\n",
       "      <th>end_month</th>\n",
       "      <th>st_daydate</th>\n",
       "      <th>end_daydate</th>\n",
       "      <th>st_weekday</th>\n",
       "      <th>end_weekday</th>\n",
       "    </tr>\n",
       "  </thead>\n",
       "  <tbody>\n",
       "    <tr>\n",
       "      <th>0</th>\n",
       "      <td>140521</td>\n",
       "      <td>140522</td>\n",
       "      <td>157655</td>\n",
       "      <td>Closed</td>\n",
       "      <td>189</td>\n",
       "      <td>2012-03-13 18:31:00</td>\n",
       "      <td>29.0</td>\n",
       "      <td>2012-03-13 18:34:00</td>\n",
       "      <td>18.0</td>\n",
       "      <td>B00094</td>\n",
       "      <td>...</td>\n",
       "      <td>18</td>\n",
       "      <td>18</td>\n",
       "      <td>1111</td>\n",
       "      <td>1114</td>\n",
       "      <td>3</td>\n",
       "      <td>3</td>\n",
       "      <td>2012-03-13</td>\n",
       "      <td>2012-03-13</td>\n",
       "      <td>1</td>\n",
       "      <td>1</td>\n",
       "    </tr>\n",
       "    <tr>\n",
       "      <th>1</th>\n",
       "      <td>140522</td>\n",
       "      <td>140524</td>\n",
       "      <td>157657</td>\n",
       "      <td>Closed</td>\n",
       "      <td>704</td>\n",
       "      <td>2012-03-15 00:00:00</td>\n",
       "      <td>40.0</td>\n",
       "      <td>2012-03-15 00:12:00</td>\n",
       "      <td>40.0</td>\n",
       "      <td>B00082</td>\n",
       "      <td>...</td>\n",
       "      <td>0</td>\n",
       "      <td>0</td>\n",
       "      <td>0</td>\n",
       "      <td>12</td>\n",
       "      <td>3</td>\n",
       "      <td>3</td>\n",
       "      <td>2012-03-15</td>\n",
       "      <td>2012-03-15</td>\n",
       "      <td>3</td>\n",
       "      <td>3</td>\n",
       "    </tr>\n",
       "    <tr>\n",
       "      <th>2</th>\n",
       "      <td>140523</td>\n",
       "      <td>140523</td>\n",
       "      <td>157656</td>\n",
       "      <td>Closed</td>\n",
       "      <td>1700</td>\n",
       "      <td>2012-03-15 00:00:00</td>\n",
       "      <td>7.0</td>\n",
       "      <td>2012-03-15 00:28:00</td>\n",
       "      <td>15.0</td>\n",
       "      <td>B00603</td>\n",
       "      <td>...</td>\n",
       "      <td>0</td>\n",
       "      <td>0</td>\n",
       "      <td>0</td>\n",
       "      <td>28</td>\n",
       "      <td>3</td>\n",
       "      <td>3</td>\n",
       "      <td>2012-03-15</td>\n",
       "      <td>2012-03-15</td>\n",
       "      <td>3</td>\n",
       "      <td>3</td>\n",
       "    </tr>\n",
       "    <tr>\n",
       "      <th>3</th>\n",
       "      <td>140524</td>\n",
       "      <td>140525</td>\n",
       "      <td>157658</td>\n",
       "      <td>Closed</td>\n",
       "      <td>1411</td>\n",
       "      <td>2012-03-15 00:00:00</td>\n",
       "      <td>41.0</td>\n",
       "      <td>2012-03-15 00:24:00</td>\n",
       "      <td>36.0</td>\n",
       "      <td>B00278</td>\n",
       "      <td>...</td>\n",
       "      <td>0</td>\n",
       "      <td>0</td>\n",
       "      <td>0</td>\n",
       "      <td>24</td>\n",
       "      <td>3</td>\n",
       "      <td>3</td>\n",
       "      <td>2012-03-15</td>\n",
       "      <td>2012-03-15</td>\n",
       "      <td>3</td>\n",
       "      <td>3</td>\n",
       "    </tr>\n",
       "    <tr>\n",
       "      <th>4</th>\n",
       "      <td>140525</td>\n",
       "      <td>140526</td>\n",
       "      <td>157659</td>\n",
       "      <td>Closed</td>\n",
       "      <td>251</td>\n",
       "      <td>2012-03-15 00:03:00</td>\n",
       "      <td>43.0</td>\n",
       "      <td>2012-03-15 00:07:00</td>\n",
       "      <td>40.0</td>\n",
       "      <td>B00076</td>\n",
       "      <td>...</td>\n",
       "      <td>0</td>\n",
       "      <td>0</td>\n",
       "      <td>3</td>\n",
       "      <td>7</td>\n",
       "      <td>3</td>\n",
       "      <td>3</td>\n",
       "      <td>2012-03-15</td>\n",
       "      <td>2012-03-15</td>\n",
       "      <td>3</td>\n",
       "      <td>3</td>\n",
       "    </tr>\n",
       "  </tbody>\n",
       "</table>\n",
       "<p>5 rows × 24 columns</p>\n",
       "</div>"
      ],
      "text/plain": [
       "    index  seq_id  hubway_id  status  duration          start_date  \\\n",
       "0  140521  140522     157655  Closed       189 2012-03-13 18:31:00   \n",
       "1  140522  140524     157657  Closed       704 2012-03-15 00:00:00   \n",
       "2  140523  140523     157656  Closed      1700 2012-03-15 00:00:00   \n",
       "3  140524  140525     157658  Closed      1411 2012-03-15 00:00:00   \n",
       "4  140525  140526     157659  Closed       251 2012-03-15 00:03:00   \n",
       "\n",
       "   strt_statn            end_date  end_statn bike_nr     ...      st_hour  \\\n",
       "0        29.0 2012-03-13 18:34:00       18.0  B00094     ...           18   \n",
       "1        40.0 2012-03-15 00:12:00       40.0  B00082     ...            0   \n",
       "2         7.0 2012-03-15 00:28:00       15.0  B00603     ...            0   \n",
       "3        41.0 2012-03-15 00:24:00       36.0  B00278     ...            0   \n",
       "4        43.0 2012-03-15 00:07:00       40.0  B00076     ...            0   \n",
       "\n",
       "  end_hour  st_minute end_minute  st_month  end_month  st_daydate  \\\n",
       "0       18       1111       1114         3          3  2012-03-13   \n",
       "1        0          0         12         3          3  2012-03-15   \n",
       "2        0          0         28         3          3  2012-03-15   \n",
       "3        0          0         24         3          3  2012-03-15   \n",
       "4        0          3          7         3          3  2012-03-15   \n",
       "\n",
       "   end_daydate  st_weekday  end_weekday  \n",
       "0   2012-03-13           1            1  \n",
       "1   2012-03-15           3            3  \n",
       "2   2012-03-15           3            3  \n",
       "3   2012-03-15           3            3  \n",
       "4   2012-03-15           3            3  \n",
       "\n",
       "[5 rows x 24 columns]"
      ]
     },
     "execution_count": 5,
     "metadata": {},
     "output_type": "execute_result"
    }
   ],
   "source": [
    "weekdaystations = trips_df.loc[trips_df.st_weekday < 5]\n",
    "weekdaystations.head()"
   ]
  },
  {
   "cell_type": "markdown",
   "metadata": {},
   "source": [
    "#### This is the beginning of our look at the top five connected stations in total, the results may change as we investigate this per hour"
   ]
  },
  {
   "cell_type": "code",
   "execution_count": 6,
   "metadata": {
    "collapsed": true
   },
   "outputs": [],
   "source": [
    "grouped_trips = weekdaystations.groupby(['strt_statn','end_statn'])\n",
    "# grouped_trips.groups"
   ]
  },
  {
   "cell_type": "code",
   "execution_count": 7,
   "metadata": {
    "collapsed": false
   },
   "outputs": [],
   "source": [
    "bb = grouped_trips.seq_id.count()"
   ]
  },
  {
   "cell_type": "code",
   "execution_count": 8,
   "metadata": {
    "collapsed": false
   },
   "outputs": [],
   "source": [
    "cc = bb.values"
   ]
  },
  {
   "cell_type": "code",
   "execution_count": 9,
   "metadata": {
    "collapsed": false
   },
   "outputs": [],
   "source": [
    "dd = np.argsort(cc)[::-1]"
   ]
  },
  {
   "cell_type": "code",
   "execution_count": 10,
   "metadata": {
    "collapsed": false
   },
   "outputs": [
    {
     "data": {
      "text/plain": [
       "strt_statn  end_statn\n",
       "22.0        38.0         1888\n",
       "40.0        22.0         1704\n",
       "38.0        22.0         1685\n",
       "22.0        40.0         1624\n",
       "            43.0         1226\n",
       "Name: seq_id, dtype: int64"
      ]
     },
     "execution_count": 10,
     "metadata": {},
     "output_type": "execute_result"
    }
   ],
   "source": [
    "bb[dd[:5]]"
   ]
  },
  {
   "cell_type": "code",
   "execution_count": 11,
   "metadata": {
    "collapsed": false
   },
   "outputs": [
    {
     "name": "stdout",
     "output_type": "stream",
     "text": [
      "(22.0, 38.0)\n"
     ]
    }
   ],
   "source": [
    "print bb[dd[:5]].index[0]"
   ]
  },
  {
   "cell_type": "markdown",
   "metadata": {},
   "source": [
    "## What I want to find\n",
    "* Time series for each station, cumulative sum sorted by timestamp (**done 27 April**)\n",
    "* Take aways and returns for each station per hour (for animation) \n",
    "    * Might want to gather top 5 paired stations per hour (*started 27 April*)\n",
    "    * will also help for GP interrogation of intensity surface\n",
    "* "
   ]
  },
  {
   "cell_type": "markdown",
   "metadata": {},
   "source": [
    "### Timeseries...\n",
    "We need to group by station (both as origin and ending) and sort by timestamp +1s for outgoing bikes and -1s for incoming bikes (there needs to be a unified timestamp domain for the sake of consistency between stations)\n",
    "\n",
    "I decided to gather two timeseries at different frequencies of time. The first is for every hour from March to November 2012. The second is for every day from March to November 2012"
   ]
  },
  {
   "cell_type": "code",
   "execution_count": 12,
   "metadata": {
    "collapsed": true
   },
   "outputs": [],
   "source": [
    "day_set = set(trips_df.st_daydate.tolist())\n",
    "day_set |= set(trips_df.end_daydate.tolist())\n",
    "day_set = list(day_set)"
   ]
  },
  {
   "cell_type": "code",
   "execution_count": 13,
   "metadata": {
    "collapsed": false
   },
   "outputs": [],
   "source": [
    "timeseries_matrix_day = np.zeros((len(stations_df),len(day_set)))\n",
    "timeseries_matrix_hour = np.zeros((len(stations_df),len(day_set)*len(np.unique(trips_df.st_hour))))"
   ]
  },
  {
   "cell_type": "code",
   "execution_count": 14,
   "metadata": {
    "collapsed": false
   },
   "outputs": [
    {
     "name": "stdout",
     "output_type": "stream",
     "text": [
      "(142, 261)\n",
      "(142, 6264)\n"
     ]
    }
   ],
   "source": [
    "print timeseries_matrix_day.shape\n",
    "print timeseries_matrix_hour.shape"
   ]
  },
  {
   "cell_type": "code",
   "execution_count": 15,
   "metadata": {
    "collapsed": false
   },
   "outputs": [],
   "source": [
    "for row in trips_df.iterrows():\n",
    "#     print row[1][6], row[1][8], row[1][8]==row[1][8]\n",
    "    if row[1][6] != row[1][6]:\n",
    "        continue\n",
    "    st_station_idx = int(row[1][6] - 3)\n",
    "    st_day = day_set.index(row[1][20])\n",
    "    st_idx = int(24*st_day + row[1][14])\n",
    "    if row[1][8] != row[1][8]:\n",
    "        continue\n",
    "    end_station_idx = int(row[1][8] - 3)\n",
    "    end_day = day_set.index(row[1][21])\n",
    "    end_idx = int(24*end_day + row[1][15])\n",
    "    \n",
    "    timeseries_matrix_hour[st_station_idx,st_idx] += 1\n",
    "    timeseries_matrix_hour[end_station_idx,end_idx] -= 1\n",
    "    \n",
    "    timeseries_matrix_day[st_station_idx,st_day] += 1\n",
    "    timeseries_matrix_day[end_station_idx,end_day] -= 1\n",
    "    "
   ]
  },
  {
   "cell_type": "code",
   "execution_count": 16,
   "metadata": {
    "collapsed": false
   },
   "outputs": [
    {
     "data": {
      "image/png": "[encoded data removed]",
      "text/plain": [
       "<matplotlib.figure.Figure at 0x11e32a050>"
      ]
     },
     "metadata": {},
     "output_type": "display_data"
    }
   ],
   "source": [
    "plt.figure()\n",
    "plt.plot(timeseries_matrix_hour[0,:],label=\"Station 3\")\n",
    "plt.title(\"Pickups/Dropoffs for every hour over 8 months\")\n",
    "plt.xlabel(\"Hour\")\n",
    "plt.ylabel(\"Net Usage of Station\")\n",
    "plt.legend()\n",
    "plt.show()"
   ]
  },
  {
   "cell_type": "code",
   "execution_count": 17,
   "metadata": {
    "collapsed": false
   },
   "outputs": [
    {
     "data": {
      "image/png": "[encoded data removed]",
      "text/plain": [
       "<matplotlib.figure.Figure at 0x1384819d0>"
      ]
     },
     "metadata": {},
     "output_type": "display_data"
    }
   ],
   "source": [
    "plt.figure()\n",
    "plt.plot(timeseries_matrix_day[0,:],label='Station 3')\n",
    "plt.title(\"Pickups/Dropoffs for every day over 8 months\")\n",
    "plt.xlabel(\"Day\")\n",
    "plt.ylabel(\"Net Usage of Station\")\n",
    "plt.ylim([-15,15])\n",
    "plt.legend()\n",
    "plt.show()"
   ]
  },
  {
   "cell_type": "code",
   "execution_count": 27,
   "metadata": {
    "collapsed": true
   },
   "outputs": [],
   "source": [
    "with open(\"timeseries_hourly.npy\",'w') as hr:\n",
    "    pickle.dump(timeseries_matrix_hour,hr)\n",
    "\n",
    "with open(\"timeseries_daily.npy\",'w') as da:\n",
    "    pickle.dump(timeseries_matrix_day,da)"
   ]
  },
  {
   "cell_type": "markdown",
   "metadata": {},
   "source": [
    "### Here's an example of using the discrete minute/second time of every pickup and drop off for Station 3\n",
    "(I quickly noticed that this was certainly not the right way to go about this... I switched to the less efficient but more cautious method above)"
   ]
  },
  {
   "cell_type": "code",
   "execution_count": 18,
   "metadata": {
    "collapsed": false
   },
   "outputs": [],
   "source": [
    "# Get unique domain for all possible times.\n",
    "time_domain = set()\n",
    "time_domain |= set(trips_df.start_date.tolist())\n",
    "time_domain |= set(trips_df.end_date.tolist())\n",
    "time_domain = sorted(list(time_domain))"
   ]
  },
  {
   "cell_type": "code",
   "execution_count": 19,
   "metadata": {
    "collapsed": false
   },
   "outputs": [],
   "source": [
    "station_timeseries = np.zeros(len(time_domain))"
   ]
  },
  {
   "cell_type": "code",
   "execution_count": 20,
   "metadata": {
    "collapsed": false
   },
   "outputs": [],
   "source": [
    "station3 = weekdaystations.loc[weekdaystations.strt_statn==3]\n",
    "station3_start_times = station3.start_date.tolist()\n",
    "station3_end_times = station3.end_date.tolist()"
   ]
  },
  {
   "cell_type": "code",
   "execution_count": 21,
   "metadata": {
    "collapsed": false
   },
   "outputs": [],
   "source": [
    "take_idx = [time_domain.index(time) for time in station3_start_times]\n",
    "return_idx = [time_domain.index(time) for time in station3_end_times]"
   ]
  },
  {
   "cell_type": "code",
   "execution_count": 22,
   "metadata": {
    "collapsed": false
   },
   "outputs": [],
   "source": [
    "for ii in take_idx:\n",
    "    station_timeseries[ii] += 1\n",
    "for jj in return_idx:\n",
    "    station_timeseries[jj] -= 1"
   ]
  },
  {
   "cell_type": "code",
   "execution_count": 23,
   "metadata": {
    "collapsed": false
   },
   "outputs": [
    {
     "data": {
      "image/png": "[encoded data removed]",
      "text/plain": [
       "<matplotlib.figure.Figure at 0x13e928e90>"
      ]
     },
     "metadata": {},
     "output_type": "display_data"
    }
   ],
   "source": [
    "plt.figure()\n",
    "plt.plot(station_timeseries)\n",
    "plt.xlim([0,len(station_timeseries)])\n",
    "plt.show()"
   ]
  },
  {
   "cell_type": "code",
   "execution_count": 24,
   "metadata": {
    "collapsed": true
   },
   "outputs": [],
   "source": [
    "station4 = weekdaystations.loc[weekdaystations.strt_statn==4]\n",
    "station4_start_times = station4.start_date.tolist()\n",
    "station4_end_times = station4.end_date.tolist()"
   ]
  },
  {
   "cell_type": "code",
   "execution_count": 25,
   "metadata": {
    "collapsed": true
   },
   "outputs": [],
   "source": [
    "take_idx4 = [time_domain.index(time)]"
   ]
  },
  {
   "cell_type": "code",
   "execution_count": null,
   "metadata": {
    "collapsed": true
   },
   "outputs": [],
   "source": []
  }
 ],
 "metadata": {
  "kernelspec": {
   "display_name": "Python 2",
   "language": "python",
   "name": "python2"
  },
  "language_info": {
   "codemirror_mode": {
    "name": "ipython",
    "version": 2
   },
   "file_extension": ".py",
   "mimetype": "text/x-python",
   "name": "python",
   "nbconvert_exporter": "python",
   "pygments_lexer": "ipython2",
   "version": "2.7.11"
  }
 },
 "nbformat": 4,
 "nbformat_minor": 0
}
