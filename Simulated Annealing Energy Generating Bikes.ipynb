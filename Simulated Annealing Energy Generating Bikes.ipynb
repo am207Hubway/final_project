{
 "cells": [
  {
   "cell_type": "markdown",
   "metadata": {},
   "source": [
    "# The intent of this notebook is to familiarize ourselves with the data, do some exploratory analysis and to construct timeseries and other data for further analysis by the team"
   ]
  },
  {
   "cell_type": "code",
   "execution_count": 1,
   "metadata": {
    "collapsed": false
   },
   "outputs": [
    {
     "name": "stderr",
     "output_type": "stream",
     "text": [
      "/Users/Sam/anaconda/lib/python2.7/site-packages/matplotlib/__init__.py:872: UserWarning: axes.color_cycle is deprecated and replaced with axes.prop_cycle; please use the latter.\n",
      "  warnings.warn(self.msg_depr % (key, alt_key))\n"
     ]
    }
   ],
   "source": [
    "%matplotlib inline\n",
    "\n",
    "import numpy as np\n",
    "import pandas as pd\n",
    "import matplotlib.pyplot as plt\n",
    "import pickle\n",
    "import seaborn as sns\n",
    "import datetime\n",
    "from mpl_toolkits.basemap import Basemap\n",
    "from matplotlib.patches import Polygon\n",
    "\n",
    "#set default plot characterstics and colors\n",
    "from matplotlib import rcParams\n",
    "\n",
    "import prep_data\n",
    "\n",
    "dark_colors = [\"#99D699\", \"#B2B2B2\",\n",
    "                (0.8509803921568627, 0.37254901960784315, 0.00784313725490196),\n",
    "                (0.4588235294117647, 0.4392156862745098, 0.7019607843137254),\n",
    "                (0.9058823529411765, 0.1607843137254902, 0.5411764705882353),\n",
    "                (0.4, 0.6509803921568628, 0.11764705882352941),\n",
    "                (0.9019607843137255, 0.6705882352941176, 0.00784313725490196),\n",
    "                (0.6509803921568628, 0.4627450980392157, 0.11372549019607843),\n",
    "                (0.4, 0.4, 0.4)]\n",
    "\n",
    "rcParams['figure.figsize'] = (10, 8)\n",
    "rcParams['figure.dpi'] = 150\n",
    "rcParams['axes.color_cycle'] = dark_colors\n",
    "rcParams['lines.linewidth'] = 2\n",
    "rcParams['axes.facecolor'] = \"white\"\n",
    "rcParams['axes.titlesize'] = 20      \n",
    "rcParams['axes.labelsize'] = 17.5\n",
    "rcParams['xtick.labelsize'] = 15 \n",
    "rcParams['ytick.labelsize'] = 15\n",
    "rcParams['legend.fontsize'] = 17.5\n",
    "rcParams['patch.edgecolor'] = 'none'\n",
    "rcParams['grid.color']=\"white\"   \n",
    "rcParams['grid.linestyle']=\"-\" \n",
    "rcParams['grid.linewidth'] = 1\n",
    "rcParams['grid.alpha']=1\n",
    "rcParams['text.color'] = \"444444\"\n",
    "rcParams['axes.labelcolor'] = \"444444\"\n",
    "rcParams['ytick.color'] = \"444444\"\n",
    "rcParams['xtick.color'] = \"444444\"\n",
    "\n",
    "# import findspark\n",
    "# findspark.init()\n",
    "# import pyspark\n",
    "# sc = pyspark.SparkContext(appName=\"Spark1\")"
   ]
  },
  {
   "cell_type": "markdown",
   "metadata": {},
   "source": [
    "### Loading the data with some initial cleaning (h/t CS109Hubway for getting me started on this and for having the data loaded to github already)"
   ]
  },
  {
   "cell_type": "code",
   "execution_count": 2,
   "metadata": {
    "collapsed": false
   },
   "outputs": [
    {
     "data": {
      "text/html": [
       "<div>\n",
       "<table border=\"1\" class=\"dataframe\">\n",
       "  <thead>\n",
       "    <tr style=\"text-align: right;\">\n",
       "      <th></th>\n",
       "      <th>id</th>\n",
       "      <th>terminal</th>\n",
       "      <th>station</th>\n",
       "      <th>municipal</th>\n",
       "      <th>lat</th>\n",
       "      <th>lng</th>\n",
       "      <th>status</th>\n",
       "    </tr>\n",
       "  </thead>\n",
       "  <tbody>\n",
       "    <tr>\n",
       "      <th>0</th>\n",
       "      <td>3</td>\n",
       "      <td>B32006</td>\n",
       "      <td>Colleges of the Fenway</td>\n",
       "      <td>Boston</td>\n",
       "      <td>42.340021</td>\n",
       "      <td>-71.100812</td>\n",
       "      <td>Existing</td>\n",
       "    </tr>\n",
       "    <tr>\n",
       "      <th>1</th>\n",
       "      <td>4</td>\n",
       "      <td>C32000</td>\n",
       "      <td>Tremont St. at Berkeley St.</td>\n",
       "      <td>Boston</td>\n",
       "      <td>42.345392</td>\n",
       "      <td>-71.069616</td>\n",
       "      <td>Existing</td>\n",
       "    </tr>\n",
       "    <tr>\n",
       "      <th>2</th>\n",
       "      <td>5</td>\n",
       "      <td>B32012</td>\n",
       "      <td>Northeastern U / North Parking Lot</td>\n",
       "      <td>Boston</td>\n",
       "      <td>42.341814</td>\n",
       "      <td>-71.090179</td>\n",
       "      <td>Existing</td>\n",
       "    </tr>\n",
       "    <tr>\n",
       "      <th>3</th>\n",
       "      <td>6</td>\n",
       "      <td>D32000</td>\n",
       "      <td>Cambridge St. at Joy St.</td>\n",
       "      <td>Boston</td>\n",
       "      <td>42.361285</td>\n",
       "      <td>-71.065140</td>\n",
       "      <td>Existing</td>\n",
       "    </tr>\n",
       "    <tr>\n",
       "      <th>4</th>\n",
       "      <td>7</td>\n",
       "      <td>A32000</td>\n",
       "      <td>Fan Pier</td>\n",
       "      <td>Boston</td>\n",
       "      <td>42.353412</td>\n",
       "      <td>-71.044624</td>\n",
       "      <td>Existing</td>\n",
       "    </tr>\n",
       "  </tbody>\n",
       "</table>\n",
       "</div>"
      ],
      "text/plain": [
       "   id terminal                             station municipal        lat  \\\n",
       "0   3   B32006              Colleges of the Fenway    Boston  42.340021   \n",
       "1   4   C32000         Tremont St. at Berkeley St.    Boston  42.345392   \n",
       "2   5   B32012  Northeastern U / North Parking Lot    Boston  42.341814   \n",
       "3   6   D32000            Cambridge St. at Joy St.    Boston  42.361285   \n",
       "4   7   A32000                            Fan Pier    Boston  42.353412   \n",
       "\n",
       "         lng    status  \n",
       "0 -71.100812  Existing  \n",
       "1 -71.069616  Existing  \n",
       "2 -71.090179  Existing  \n",
       "3 -71.065140  Existing  \n",
       "4 -71.044624  Existing  "
      ]
     },
     "execution_count": 2,
     "metadata": {},
     "output_type": "execute_result"
    }
   ],
   "source": [
    "stations_df = prep_data.stations('https://raw.githubusercontent.com/CS109Hubway/classp/master/data/hubway_stations.csv')\n",
    "stations_df.head()"
   ]
  },
  {
   "cell_type": "code",
   "execution_count": 3,
   "metadata": {
    "collapsed": false
   },
   "outputs": [
    {
     "data": {
      "text/plain": [
       "(142, 7)"
      ]
     },
     "execution_count": 3,
     "metadata": {},
     "output_type": "execute_result"
    }
   ],
   "source": [
    "stations_df.shape"
   ]
  },
  {
   "cell_type": "code",
   "execution_count": 4,
   "metadata": {
    "collapsed": true
   },
   "outputs": [],
   "source": [
    "station_ids = stations_df['id'].unique()"
   ]
  },
  {
   "cell_type": "code",
   "execution_count": 5,
   "metadata": {
    "collapsed": false
   },
   "outputs": [
    {
     "data": {
      "text/html": [
       "<div>\n",
       "<table border=\"1\" class=\"dataframe\">\n",
       "  <thead>\n",
       "    <tr style=\"text-align: right;\">\n",
       "      <th></th>\n",
       "      <th>index</th>\n",
       "      <th>seq_id</th>\n",
       "      <th>hubway_id</th>\n",
       "      <th>status</th>\n",
       "      <th>duration</th>\n",
       "      <th>start_date</th>\n",
       "      <th>strt_statn</th>\n",
       "      <th>end_date</th>\n",
       "      <th>end_statn</th>\n",
       "      <th>bike_nr</th>\n",
       "      <th>...</th>\n",
       "      <th>st_hour</th>\n",
       "      <th>end_hour</th>\n",
       "      <th>st_minute</th>\n",
       "      <th>end_minute</th>\n",
       "      <th>st_month</th>\n",
       "      <th>end_month</th>\n",
       "      <th>st_daydate</th>\n",
       "      <th>end_daydate</th>\n",
       "      <th>st_weekday</th>\n",
       "      <th>end_weekday</th>\n",
       "    </tr>\n",
       "  </thead>\n",
       "  <tbody>\n",
       "    <tr>\n",
       "      <th>0</th>\n",
       "      <td>140521</td>\n",
       "      <td>140522</td>\n",
       "      <td>157655</td>\n",
       "      <td>Closed</td>\n",
       "      <td>189</td>\n",
       "      <td>2012-03-13 18:31:00</td>\n",
       "      <td>29</td>\n",
       "      <td>2012-03-13 18:34:00</td>\n",
       "      <td>18</td>\n",
       "      <td>B00094</td>\n",
       "      <td>...</td>\n",
       "      <td>18</td>\n",
       "      <td>18</td>\n",
       "      <td>1111</td>\n",
       "      <td>1114</td>\n",
       "      <td>3</td>\n",
       "      <td>3</td>\n",
       "      <td>2012-03-13</td>\n",
       "      <td>2012-03-13</td>\n",
       "      <td>1</td>\n",
       "      <td>1</td>\n",
       "    </tr>\n",
       "    <tr>\n",
       "      <th>1</th>\n",
       "      <td>140522</td>\n",
       "      <td>140524</td>\n",
       "      <td>157657</td>\n",
       "      <td>Closed</td>\n",
       "      <td>704</td>\n",
       "      <td>2012-03-15 00:00:00</td>\n",
       "      <td>40</td>\n",
       "      <td>2012-03-15 00:12:00</td>\n",
       "      <td>40</td>\n",
       "      <td>B00082</td>\n",
       "      <td>...</td>\n",
       "      <td>0</td>\n",
       "      <td>0</td>\n",
       "      <td>0</td>\n",
       "      <td>12</td>\n",
       "      <td>3</td>\n",
       "      <td>3</td>\n",
       "      <td>2012-03-15</td>\n",
       "      <td>2012-03-15</td>\n",
       "      <td>3</td>\n",
       "      <td>3</td>\n",
       "    </tr>\n",
       "    <tr>\n",
       "      <th>2</th>\n",
       "      <td>140523</td>\n",
       "      <td>140523</td>\n",
       "      <td>157656</td>\n",
       "      <td>Closed</td>\n",
       "      <td>1700</td>\n",
       "      <td>2012-03-15 00:00:00</td>\n",
       "      <td>7</td>\n",
       "      <td>2012-03-15 00:28:00</td>\n",
       "      <td>15</td>\n",
       "      <td>B00603</td>\n",
       "      <td>...</td>\n",
       "      <td>0</td>\n",
       "      <td>0</td>\n",
       "      <td>0</td>\n",
       "      <td>28</td>\n",
       "      <td>3</td>\n",
       "      <td>3</td>\n",
       "      <td>2012-03-15</td>\n",
       "      <td>2012-03-15</td>\n",
       "      <td>3</td>\n",
       "      <td>3</td>\n",
       "    </tr>\n",
       "    <tr>\n",
       "      <th>3</th>\n",
       "      <td>140524</td>\n",
       "      <td>140525</td>\n",
       "      <td>157658</td>\n",
       "      <td>Closed</td>\n",
       "      <td>1411</td>\n",
       "      <td>2012-03-15 00:00:00</td>\n",
       "      <td>41</td>\n",
       "      <td>2012-03-15 00:24:00</td>\n",
       "      <td>36</td>\n",
       "      <td>B00278</td>\n",
       "      <td>...</td>\n",
       "      <td>0</td>\n",
       "      <td>0</td>\n",
       "      <td>0</td>\n",
       "      <td>24</td>\n",
       "      <td>3</td>\n",
       "      <td>3</td>\n",
       "      <td>2012-03-15</td>\n",
       "      <td>2012-03-15</td>\n",
       "      <td>3</td>\n",
       "      <td>3</td>\n",
       "    </tr>\n",
       "    <tr>\n",
       "      <th>4</th>\n",
       "      <td>140525</td>\n",
       "      <td>140526</td>\n",
       "      <td>157659</td>\n",
       "      <td>Closed</td>\n",
       "      <td>251</td>\n",
       "      <td>2012-03-15 00:03:00</td>\n",
       "      <td>43</td>\n",
       "      <td>2012-03-15 00:07:00</td>\n",
       "      <td>40</td>\n",
       "      <td>B00076</td>\n",
       "      <td>...</td>\n",
       "      <td>0</td>\n",
       "      <td>0</td>\n",
       "      <td>3</td>\n",
       "      <td>7</td>\n",
       "      <td>3</td>\n",
       "      <td>3</td>\n",
       "      <td>2012-03-15</td>\n",
       "      <td>2012-03-15</td>\n",
       "      <td>3</td>\n",
       "      <td>3</td>\n",
       "    </tr>\n",
       "  </tbody>\n",
       "</table>\n",
       "<p>5 rows × 24 columns</p>\n",
       "</div>"
      ],
      "text/plain": [
       "    index  seq_id  hubway_id  status  duration          start_date  \\\n",
       "0  140521  140522     157655  Closed       189 2012-03-13 18:31:00   \n",
       "1  140522  140524     157657  Closed       704 2012-03-15 00:00:00   \n",
       "2  140523  140523     157656  Closed      1700 2012-03-15 00:00:00   \n",
       "3  140524  140525     157658  Closed      1411 2012-03-15 00:00:00   \n",
       "4  140525  140526     157659  Closed       251 2012-03-15 00:03:00   \n",
       "\n",
       "   strt_statn            end_date  end_statn bike_nr     ...      st_hour  \\\n",
       "0          29 2012-03-13 18:34:00         18  B00094     ...           18   \n",
       "1          40 2012-03-15 00:12:00         40  B00082     ...            0   \n",
       "2           7 2012-03-15 00:28:00         15  B00603     ...            0   \n",
       "3          41 2012-03-15 00:24:00         36  B00278     ...            0   \n",
       "4          43 2012-03-15 00:07:00         40  B00076     ...            0   \n",
       "\n",
       "  end_hour  st_minute end_minute  st_month  end_month  st_daydate  \\\n",
       "0       18       1111       1114         3          3  2012-03-13   \n",
       "1        0          0         12         3          3  2012-03-15   \n",
       "2        0          0         28         3          3  2012-03-15   \n",
       "3        0          0         24         3          3  2012-03-15   \n",
       "4        0          3          7         3          3  2012-03-15   \n",
       "\n",
       "   end_daydate  st_weekday  end_weekday  \n",
       "0   2012-03-13           1            1  \n",
       "1   2012-03-15           3            3  \n",
       "2   2012-03-15           3            3  \n",
       "3   2012-03-15           3            3  \n",
       "4   2012-03-15           3            3  \n",
       "\n",
       "[5 rows x 24 columns]"
      ]
     },
     "execution_count": 5,
     "metadata": {},
     "output_type": "execute_result"
    }
   ],
   "source": [
    "trips_df = prep_data.trips('https://raw.githubusercontent.com/CS109Hubway/classp/master/data/tripsthrough2012.csv')\n",
    "trips_df.head()"
   ]
  },
  {
   "cell_type": "code",
   "execution_count": 6,
   "metadata": {
    "collapsed": false
   },
   "outputs": [],
   "source": [
    "# Assign Time Periods:\n",
    "# 1: Morning (4am-12pm)\n",
    "# 2: Afternoon (12pm-8pm)\n",
    "# 3: Evening (8pm-4am)\n",
    "time_periods = np.zeros(len(trips_df))\n",
    "start_dates = trips_df['start_date'].values\n",
    "for i in xrange(len(start_dates)):\n",
    "    hour = pd.Timestamp(start_dates[i]).time().hour\n",
    "    if 4 <= hour and hour < 12:\n",
    "        #morning\n",
    "        time_period = 1\n",
    "    elif 12 <= hour and hour < 20:\n",
    "        # afternoon\n",
    "        time_period = 2\n",
    "    else:\n",
    "        # evening \n",
    "        time_period = 3\n",
    "    time_periods[i] = time_period"
   ]
  },
  {
   "cell_type": "code",
   "execution_count": 7,
   "metadata": {
    "collapsed": false,
    "scrolled": true
   },
   "outputs": [
    {
     "data": {
      "text/html": [
       "<div>\n",
       "<table border=\"1\" class=\"dataframe\">\n",
       "  <thead>\n",
       "    <tr style=\"text-align: right;\">\n",
       "      <th></th>\n",
       "      <th>index</th>\n",
       "      <th>seq_id</th>\n",
       "      <th>hubway_id</th>\n",
       "      <th>status</th>\n",
       "      <th>duration</th>\n",
       "      <th>start_date</th>\n",
       "      <th>strt_statn</th>\n",
       "      <th>end_date</th>\n",
       "      <th>end_statn</th>\n",
       "      <th>bike_nr</th>\n",
       "      <th>...</th>\n",
       "      <th>end_hour</th>\n",
       "      <th>st_minute</th>\n",
       "      <th>end_minute</th>\n",
       "      <th>st_month</th>\n",
       "      <th>end_month</th>\n",
       "      <th>st_daydate</th>\n",
       "      <th>end_daydate</th>\n",
       "      <th>st_weekday</th>\n",
       "      <th>end_weekday</th>\n",
       "      <th>time_period</th>\n",
       "    </tr>\n",
       "  </thead>\n",
       "  <tbody>\n",
       "    <tr>\n",
       "      <th>0</th>\n",
       "      <td>140521</td>\n",
       "      <td>140522</td>\n",
       "      <td>157655</td>\n",
       "      <td>Closed</td>\n",
       "      <td>189</td>\n",
       "      <td>2012-03-13 18:31:00</td>\n",
       "      <td>29</td>\n",
       "      <td>2012-03-13 18:34:00</td>\n",
       "      <td>18</td>\n",
       "      <td>B00094</td>\n",
       "      <td>...</td>\n",
       "      <td>18</td>\n",
       "      <td>1111</td>\n",
       "      <td>1114</td>\n",
       "      <td>3</td>\n",
       "      <td>3</td>\n",
       "      <td>2012-03-13</td>\n",
       "      <td>2012-03-13</td>\n",
       "      <td>1</td>\n",
       "      <td>1</td>\n",
       "      <td>2</td>\n",
       "    </tr>\n",
       "    <tr>\n",
       "      <th>1</th>\n",
       "      <td>140522</td>\n",
       "      <td>140524</td>\n",
       "      <td>157657</td>\n",
       "      <td>Closed</td>\n",
       "      <td>704</td>\n",
       "      <td>2012-03-15 00:00:00</td>\n",
       "      <td>40</td>\n",
       "      <td>2012-03-15 00:12:00</td>\n",
       "      <td>40</td>\n",
       "      <td>B00082</td>\n",
       "      <td>...</td>\n",
       "      <td>0</td>\n",
       "      <td>0</td>\n",
       "      <td>12</td>\n",
       "      <td>3</td>\n",
       "      <td>3</td>\n",
       "      <td>2012-03-15</td>\n",
       "      <td>2012-03-15</td>\n",
       "      <td>3</td>\n",
       "      <td>3</td>\n",
       "      <td>3</td>\n",
       "    </tr>\n",
       "    <tr>\n",
       "      <th>2</th>\n",
       "      <td>140523</td>\n",
       "      <td>140523</td>\n",
       "      <td>157656</td>\n",
       "      <td>Closed</td>\n",
       "      <td>1700</td>\n",
       "      <td>2012-03-15 00:00:00</td>\n",
       "      <td>7</td>\n",
       "      <td>2012-03-15 00:28:00</td>\n",
       "      <td>15</td>\n",
       "      <td>B00603</td>\n",
       "      <td>...</td>\n",
       "      <td>0</td>\n",
       "      <td>0</td>\n",
       "      <td>28</td>\n",
       "      <td>3</td>\n",
       "      <td>3</td>\n",
       "      <td>2012-03-15</td>\n",
       "      <td>2012-03-15</td>\n",
       "      <td>3</td>\n",
       "      <td>3</td>\n",
       "      <td>3</td>\n",
       "    </tr>\n",
       "    <tr>\n",
       "      <th>3</th>\n",
       "      <td>140524</td>\n",
       "      <td>140525</td>\n",
       "      <td>157658</td>\n",
       "      <td>Closed</td>\n",
       "      <td>1411</td>\n",
       "      <td>2012-03-15 00:00:00</td>\n",
       "      <td>41</td>\n",
       "      <td>2012-03-15 00:24:00</td>\n",
       "      <td>36</td>\n",
       "      <td>B00278</td>\n",
       "      <td>...</td>\n",
       "      <td>0</td>\n",
       "      <td>0</td>\n",
       "      <td>24</td>\n",
       "      <td>3</td>\n",
       "      <td>3</td>\n",
       "      <td>2012-03-15</td>\n",
       "      <td>2012-03-15</td>\n",
       "      <td>3</td>\n",
       "      <td>3</td>\n",
       "      <td>3</td>\n",
       "    </tr>\n",
       "    <tr>\n",
       "      <th>4</th>\n",
       "      <td>140525</td>\n",
       "      <td>140526</td>\n",
       "      <td>157659</td>\n",
       "      <td>Closed</td>\n",
       "      <td>251</td>\n",
       "      <td>2012-03-15 00:03:00</td>\n",
       "      <td>43</td>\n",
       "      <td>2012-03-15 00:07:00</td>\n",
       "      <td>40</td>\n",
       "      <td>B00076</td>\n",
       "      <td>...</td>\n",
       "      <td>0</td>\n",
       "      <td>3</td>\n",
       "      <td>7</td>\n",
       "      <td>3</td>\n",
       "      <td>3</td>\n",
       "      <td>2012-03-15</td>\n",
       "      <td>2012-03-15</td>\n",
       "      <td>3</td>\n",
       "      <td>3</td>\n",
       "      <td>3</td>\n",
       "    </tr>\n",
       "  </tbody>\n",
       "</table>\n",
       "<p>5 rows × 25 columns</p>\n",
       "</div>"
      ],
      "text/plain": [
       "    index  seq_id  hubway_id  status  duration          start_date  \\\n",
       "0  140521  140522     157655  Closed       189 2012-03-13 18:31:00   \n",
       "1  140522  140524     157657  Closed       704 2012-03-15 00:00:00   \n",
       "2  140523  140523     157656  Closed      1700 2012-03-15 00:00:00   \n",
       "3  140524  140525     157658  Closed      1411 2012-03-15 00:00:00   \n",
       "4  140525  140526     157659  Closed       251 2012-03-15 00:03:00   \n",
       "\n",
       "   strt_statn            end_date  end_statn bike_nr     ...      end_hour  \\\n",
       "0          29 2012-03-13 18:34:00         18  B00094     ...            18   \n",
       "1          40 2012-03-15 00:12:00         40  B00082     ...             0   \n",
       "2           7 2012-03-15 00:28:00         15  B00603     ...             0   \n",
       "3          41 2012-03-15 00:24:00         36  B00278     ...             0   \n",
       "4          43 2012-03-15 00:07:00         40  B00076     ...             0   \n",
       "\n",
       "  st_minute  end_minute st_month  end_month  st_daydate  end_daydate  \\\n",
       "0      1111        1114        3          3  2012-03-13   2012-03-13   \n",
       "1         0          12        3          3  2012-03-15   2012-03-15   \n",
       "2         0          28        3          3  2012-03-15   2012-03-15   \n",
       "3         0          24        3          3  2012-03-15   2012-03-15   \n",
       "4         3           7        3          3  2012-03-15   2012-03-15   \n",
       "\n",
       "   st_weekday  end_weekday  time_period  \n",
       "0           1            1            2  \n",
       "1           3            3            3  \n",
       "2           3            3            3  \n",
       "3           3            3            3  \n",
       "4           3            3            3  \n",
       "\n",
       "[5 rows x 25 columns]"
      ]
     },
     "execution_count": 7,
     "metadata": {},
     "output_type": "execute_result"
    }
   ],
   "source": [
    "trips_df['time_period'] = time_periods\n",
    "trips_df.head()"
   ]
  },
  {
   "cell_type": "code",
   "execution_count": 8,
   "metadata": {
    "collapsed": true
   },
   "outputs": [],
   "source": [
    "del time_periods\n",
    "del start_dates"
   ]
  },
  {
   "cell_type": "code",
   "execution_count": 9,
   "metadata": {
    "collapsed": false
   },
   "outputs": [],
   "source": [
    "# Create masks for each time period\n",
    "morning_mask = trips_df['time_period'] == 1\n",
    "afternoon_mask = trips_df['time_period'] == 2\n",
    "evening_mask = trips_df['time_period'] ==3"
   ]
  },
  {
   "cell_type": "code",
   "execution_count": 10,
   "metadata": {
    "collapsed": false
   },
   "outputs": [],
   "source": [
    "# Let K = maxmimum id of a station\n",
    "K = stations_df.id.max()"
   ]
  },
  {
   "cell_type": "code",
   "execution_count": 16,
   "metadata": {
    "collapsed": false
   },
   "outputs": [],
   "source": [
    "# drop rows with NAs\n",
    "trips_df.dropna(axis=0,inplace=True)"
   ]
  },
  {
   "cell_type": "code",
   "execution_count": 57,
   "metadata": {
    "collapsed": false
   },
   "outputs": [
    {
     "name": "stdout",
     "output_type": "stream",
     "text": [
      "408764 55.0 45.0\n"
     ]
    },
    {
     "name": "stderr",
     "output_type": "stream",
     "text": [
      "/Users/Sam/anaconda/lib/python2.7/site-packages/ipykernel/__main__.py:5: DeprecationWarning: using a non-integer number instead of an integer will result in an error in the future\n"
     ]
    }
   ],
   "source": [
    "mini_trips = trips_df.loc[:,[\"strt_statn\",\"end_statn\",\"time_period\"]]\n",
    "transition_matrix = np.zeros([146,146,3])\n",
    "for index, row in mini_trips.dropna(axis=0).iterrows():\n",
    "    print \"\\r\" + str(index) + \" \" + str(row[0]) + \" \" + str(row[1]),\n",
    "    transition_matrix[row[0],row[1],row[2]-1] += 1\n",
    "for period in range(3):\n",
    "    for i in range(146):\n",
    "        transition_matrix[i,:,period] = transition_matrix[i,:,period] / np.sum(transition_matrix[i,:,period])"
   ]
  },
  {
   "cell_type": "code",
   "execution_count": 60,
   "metadata": {
    "collapsed": false
   },
   "outputs": [
    {
     "data": {
      "text/plain": [
       "1.0000000000000004"
      ]
     },
     "execution_count": 60,
     "metadata": {},
     "output_type": "execute_result"
    }
   ],
   "source": [
    "sum(transition_matrix[4,:,1])"
   ]
  },
  {
   "cell_type": "code",
   "execution_count": 66,
   "metadata": {
    "collapsed": false
   },
   "outputs": [
    {
     "name": "stdout",
     "output_type": "stream",
     "text": [
      "145 145\n"
     ]
    },
    {
     "name": "stderr",
     "output_type": "stream",
     "text": [
      "/Users/Sam/anaconda/lib/python2.7/site-packages/ipykernel/__main__.py:13: DeprecationWarning: using a non-integer number instead of an integer will result in an error in the future\n",
      "/Users/Sam/anaconda/lib/python2.7/site-packages/ipykernel/__main__.py:14: DeprecationWarning: using a non-integer number instead of an integer will result in an error in the future\n"
     ]
    }
   ],
   "source": [
    "# Create distance and duration matrices\n",
    "\n",
    "trips_df[\"trip_duration\"] = trips_df[\"end_minute\"] - trips_df['st_minute']\n",
    "mini_trips = trips_df.loc[:,[\"strt_statn\",\"end_statn\",\"trip_duration\"]]\n",
    "mini_trips = mini_trips.dropna(axis=0)\n",
    "duration_matrix = np.zeros([max(stations_df.id)+1,max(stations_df.id)+1])\n",
    "counter_matrix = np.zeros([max(stations_df.id)+1,max(stations_df.id)+1])\n",
    "distance_matrix = np.zeros([max(stations_df.id)+1,max(stations_df.id)+1])\n",
    "# create duration matrix\n",
    "for index, row in mini_trips.iterrows():\n",
    "    print \"\\r\" + str(index) + \" \" + str(row[0]) + \" \" + str(row[1]),\n",
    "    if row[2] > 0:\n",
    "        duration_matrix[row[0],row[1]] += row[2]\n",
    "        counter_matrix[row[0],row[1]] += 1.0\n",
    "\n",
    "duration_matrix /= counter_matrix\n",
    "# create distance matrix\n",
    "for index, row in stations_df.iterrows():\n",
    "    for index2, row2 in stations_df.iterrows():\n",
    "        print \"\\r\" + str(row[0]) + \" \" + str(row2[0]),\n",
    "        station1 = row[0]\n",
    "        station2 = row2[0]\n",
    "        phi1 = row[4]*np.pi/180.\n",
    "        phi2 = row2[4]*np.pi/180.\n",
    "        lam1 = row[5]*np.pi/180.\n",
    "        lam2 = row2[5]*np.pi/180.\n",
    "        delphi = np.abs(phi1 - phi2)\n",
    "        dellam = np.abs(lam1 - lam2)\n",
    "        delsig = np.arccos(np.sin(phi1)*np.sin(phi2)+np.cos(phi1)*np.cos(phi2)*np.cos(dellam))\n",
    "        r = 3959 #mi\n",
    "        distance_matrix[station1,station2] = r*delsig    "
   ]
  },
  {
   "cell_type": "code",
   "execution_count": 67,
   "metadata": {
    "collapsed": false
   },
   "outputs": [
    {
     "name": "stdout",
     "output_type": "stream",
     "text": [
      "408764 55.0 3.0\n"
     ]
    },
    {
     "name": "stderr",
     "output_type": "stream",
     "text": [
      "/Users/Sam/anaconda/lib/python2.7/site-packages/ipykernel/__main__.py:5: DeprecationWarning: using a non-integer number instead of an integer will result in an error in the future\n"
     ]
    }
   ],
   "source": [
    "# Get probability that there is a rider at a given station at a given time period\n",
    "rides = np.zeros((3,max(stations_df.id)+1))\n",
    "for index, row in trips_df.iterrows():\n",
    "    print \"\\r\" + str(index) + \" \" + str(row[6]) + \" \" + str(row[-2]),\n",
    "    rides[row[-2]-1,row[6]] += 1"
   ]
  },
  {
   "cell_type": "code",
   "execution_count": 68,
   "metadata": {
    "collapsed": true
   },
   "outputs": [],
   "source": [
    "# Simulated Annealing"
   ]
  },
  {
   "cell_type": "code",
   "execution_count": 70,
   "metadata": {
    "collapsed": true
   },
   "outputs": [],
   "source": [
    "# create a new initial bike positions\n",
    "# returns the new starting positions\n",
    "def change_mapping(bike_start_locs,num_to_move):\n",
    "    # make copy\n",
    "    proposed_bike_start_locs = np.copy(bike_start_locs)\n",
    "    # Choose which bike to move\n",
    "    bikes_to_move = np.random.choice(np.arange(len(bike_start_locs)),replace=False,size=num_to_move)\n",
    "    for bike_idx in bikes_to_move:\n",
    "        # choose where to move bike to\n",
    "        move_bike_to = np.random.randint(3,K+1)\n",
    "        proposed_bike_start_locs[bike_idx] = move_bike_to\n",
    "    return proposed_bike_start_locs"
   ]
  },
  {
   "cell_type": "code",
   "execution_count": 91,
   "metadata": {
    "collapsed": false
   },
   "outputs": [],
   "source": [
    "def runday(proposed_bike_start_locs, interval, ride_probs):\n",
    "    # Initialize matrix to store bike data (changing each interval)\n",
    "    # 0th column is whether the bike is in transit (1= in transit)\n",
    "    # 1st col is time left in transit\n",
    "    # 2nd column is location\n",
    "    # 3rd column is total distance for bike in day\n",
    "    bikes = np.zeros((len(proposed_bike_start_locs),4))\n",
    "    #intial time\n",
    "    t = 0\n",
    "    bikes[:,2] = proposed_bike_start_locs\n",
    "    morning_begin = 240\n",
    "    afternoon_begin = 720\n",
    "    evening_begin = 1200\n",
    "    while t < 1440:\n",
    "        #determine current time period:\n",
    "        current_hour = t % 60\n",
    "        time_period = 2\n",
    "        if current_hour >= 4 and current_hour < 12:\n",
    "            time_period = 0\n",
    "        elif current_hour >=12 and current_hour < 20:\n",
    "            time_period = 1\n",
    "        for i in xrange(bikes.shape[0]):\n",
    "            bike = bikes[i]\n",
    "            if bike[0] == 1:\n",
    "                # in transit\n",
    "                bike[1] -= interval\n",
    "                if bike[1] <= 0:\n",
    "                    # if time left is zero\n",
    "                    #then bike is not in transit\n",
    "                    bike[0] = 1\n",
    "            else:\n",
    "                # not in transit\n",
    "                if np.random.random() < ride_probs[time_period,bike[2]]:\n",
    "                    # a rider wants the bike\n",
    "                    prev_loc = bike[2]\n",
    "                    bike[2] = np.random.choice(np.arange(0,K+1),p=transition_matrix[prev_loc,:,time_period])\n",
    "                    #update duration\n",
    "                    bike[1] = duration_matrix[prev_loc,bike[2]]\n",
    "                    #update distance\n",
    "                    bike[3] = distance_matrix[prev_loc,bike[2]]\n",
    "                    bike[0] = 1\n",
    "        t += interval\n",
    "    return np.sum(bikes[:,3])"
   ]
  },
  {
   "cell_type": "code",
   "execution_count": 106,
   "metadata": {
    "collapsed": true
   },
   "outputs": [],
   "source": [
    "# function for simulated annealing\n",
    "# x: points1\n",
    "# y: points2\n",
    "# w: array of weights\n",
    "# v: array of values\n",
    "# total_weight_limit: total weight limit\n",
    "# init_temp: initial temperature \n",
    "# thermostat: linear factor to decrease the temperature \n",
    "# ftol, itol: tolerance values for stopping \n",
    "# ftol: Not changing much anymore --> function tolerance threshold\n",
    "# itol: maximum number of iterations\n",
    "# reannealing: schedule for reheating\n",
    "\n",
    "def simulated_annealing(init_temp, thermostat, ftol, itol, reannealing,num_bikes,interval):\n",
    "    # number of iterations before stopping\n",
    "    # if improvment is less than function tolerance, typically m = 100\n",
    "    m=100\n",
    "    \n",
    "    # initialize correspondence matrix with random mappings\n",
    "    bike_start_locs = np.random.randint(3,K+1,size=num_bikes)\n",
    "    # array storing the norm at each step\n",
    "    total_dists = []\n",
    "    \n",
    "    # initialize temperature\n",
    "    temperature = init_temp   \n",
    "\n",
    "    # number of accepted steps\n",
    "    it = 0                    \n",
    "    A = np.zeros((3,3))\n",
    "    # Energy is the norm\n",
    "    prev_dist = 0\n",
    "    # number of iterations\n",
    "    atp=0\n",
    "    \n",
    "    # keep track of most valuable knapsack\n",
    "    best_bike_start_locs = np.copy(bike_start_locs)\n",
    "    best_dist = prev_dist\n",
    "    \n",
    "    #normalize probability of a rider taking a bike for the given interval length\n",
    "    ride_probs = rides/8.0/60.0*interval\n",
    "    \n",
    "    while it >= 0:\n",
    "        # adaptive step size \n",
    "        num_to_move = np.max((np.floor(temperature).astype(int),2))\n",
    "        #num_to_move = 2\n",
    "        proposed_bike_start_locs = change_mapping(bike_start_locs,num_to_move)\n",
    "        \n",
    "        # make energy negative, so we minimize energy\n",
    "        new_dist = runday(proposed_bike_start_locs,interval,ride_probs)\n",
    "        delta_dist =  new_dist - prev_dist \n",
    "\n",
    "        if new_dist > prev_dist:\n",
    "            bike_start_locs = proposed_bike_start_locs\n",
    "            total_dists.append(new_dist)\n",
    "            prev_dist = new_dist \n",
    "            it = it+1\n",
    "            \n",
    "        elif np.random.rand() < np.exp( delta_dist/temperature):\n",
    "            bike_start_locs = proposed_bike_start_locs\n",
    "            total_dists.append(new_dist)\n",
    "            prev_dist = new_dist\n",
    "            it = it+1\n",
    "        \n",
    "        # Store most valuable knapsack\n",
    "        if new_dist > best_dist:\n",
    "            best_bike_start_locs = np.copy(proposed_bike_start_locs)\n",
    "            best_dist = new_dist\n",
    "            \n",
    "        atp = atp +1  # NUMBER OF ITERATIONS\n",
    "        \n",
    "        # check if it is time to cool down\n",
    "        if it % reannealing == 0:\n",
    "            temperature = thermostat * temperature\n",
    "            compl_temp=0\n",
    "            \n",
    "            #if we get too cold, reheat\n",
    "            if temperature < 0.01:\n",
    "                temperature = 1\n",
    "                \n",
    "        if len(total_dists)>m and np.std(total_dists[-m:])/np.mean(total_dists[-m:]) < ftol:\n",
    "            print 'ftol'\n",
    "            break\n",
    "        if atp >itol:\n",
    "            print 'itol'\n",
    "            break\n",
    "        print '\\r'+str(it),\n",
    "\n",
    "    return best_bike_start_locs, best_dist"
   ]
  },
  {
   "cell_type": "code",
   "execution_count": 122,
   "metadata": {
    "collapsed": false
   },
   "outputs": [
    {
     "name": "stdout",
     "output_type": "stream",
     "text": [
      "75 itol\n",
      "[108  11 103  57  53  12   7 134  41  44  94  18  31  79  71  85 143  76\n",
      " 131  35  68 126  57  77  15  72   6 136  89  69 108  66  28  32  86 119\n",
      "  56  82 145  40  10  43 134  37  56  58  23 106 108  25]\n",
      "58.7393583077\n"
     ]
    },
    {
     "name": "stderr",
     "output_type": "stream",
     "text": [
      "/Users/Sam/anaconda/lib/python2.7/site-packages/ipykernel/__main__.py:33: DeprecationWarning: using a non-integer number instead of an integer will result in an error in the future\n",
      "/Users/Sam/anaconda/lib/python2.7/site-packages/ipykernel/__main__.py:36: DeprecationWarning: using a non-integer number instead of an integer will result in an error in the future\n",
      "/Users/Sam/anaconda/lib/python2.7/site-packages/ipykernel/__main__.py:38: DeprecationWarning: using a non-integer number instead of an integer will result in an error in the future\n",
      "/Users/Sam/anaconda/lib/python2.7/site-packages/ipykernel/__main__.py:40: DeprecationWarning: using a non-integer number instead of an integer will result in an error in the future\n"
     ]
    }
   ],
   "source": [
    "init_temp = 10.0\n",
    "num_bikes = 50\n",
    "thermostat = .9\n",
    "ftol = .01\n",
    "itol = 1000\n",
    "reannealing =10\n",
    "interval = 10\n",
    "best_bike_start_locs,best_dist = simulated_annealing(init_temp, thermostat, ftol, itol, reannealing,num_bikes,interval)\n",
    "print best_bike_start_locs\n",
    "print best_dist"
   ]
  }
 ],
 "metadata": {
  "kernelspec": {
   "display_name": "Python 2",
   "language": "python",
   "name": "python2"
  },
  "language_info": {
   "codemirror_mode": {
    "name": "ipython",
    "version": 2
   },
   "file_extension": ".py",
   "mimetype": "text/x-python",
   "name": "python",
   "nbconvert_exporter": "python",
   "pygments_lexer": "ipython2",
   "version": "2.7.11"
  }
 },
 "nbformat": 4,
 "nbformat_minor": 0
}
