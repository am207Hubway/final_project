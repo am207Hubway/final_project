{
 "cells": [
  {
   "cell_type": "code",
   "execution_count": 66,
   "metadata": {
    "collapsed": false
   },
   "outputs": [],
   "source": [
    "%matplotlib inline\n",
    "import statsmodels.api as sm\n",
    "import statsmodels.graphics.tsaplots as tsaplots\n",
    "import numpy as np\n",
    "import pandas as pd\n",
    "import matplotlib.pyplot as plt\n",
    "import pickle\n",
    "import seaborn as sns\n",
    "import datetime\n",
    "import pymc as pm\n",
    "# from mpl_toolkits.basemap import Basemap\n",
    "# from matplotlib.patches import Polygon\n",
    "\n",
    "#set default plot characterstics and colors\n",
    "from matplotlib import rcParams\n",
    "\n",
    "import prep_data\n",
    "\n",
    "dark_colors = [\"#99D699\", \"#B2B2B2\",\n",
    "                (0.8509803921568627, 0.37254901960784315, 0.00784313725490196),\n",
    "                (0.4588235294117647, 0.4392156862745098, 0.7019607843137254),\n",
    "                (0.9058823529411765, 0.1607843137254902, 0.5411764705882353),\n",
    "                (0.4, 0.6509803921568628, 0.11764705882352941),\n",
    "                (0.9019607843137255, 0.6705882352941176, 0.00784313725490196),\n",
    "                (0.6509803921568628, 0.4627450980392157, 0.11372549019607843),\n",
    "                (0.4, 0.4, 0.4)]\n",
    "\n",
    "rcParams['figure.figsize'] = (10, 8)\n",
    "rcParams['figure.dpi'] = 150\n",
    "rcParams['axes.color_cycle'] = dark_colors\n",
    "rcParams['lines.linewidth'] = 2\n",
    "rcParams['axes.facecolor'] = \"white\"\n",
    "rcParams['axes.titlesize'] = 20      \n",
    "rcParams['axes.labelsize'] = 17.5\n",
    "rcParams['xtick.labelsize'] = 15 \n",
    "rcParams['ytick.labelsize'] = 15\n",
    "rcParams['legend.fontsize'] = 17.5\n",
    "rcParams['patch.edgecolor'] = 'none'\n",
    "rcParams['grid.color']=\"white\"   \n",
    "rcParams['grid.linestyle']=\"-\" \n",
    "rcParams['grid.linewidth'] = 1\n",
    "rcParams['grid.alpha']=1\n",
    "rcParams['text.color'] = \"444444\"\n",
    "rcParams['axes.labelcolor'] = \"444444\"\n",
    "rcParams['ytick.color'] = \"444444\"\n",
    "rcParams['xtick.color'] = \"444444\"\n",
    "\n",
    "# import findspark\n",
    "# findspark.init()\n",
    "# import pyspark\n",
    "# sc = pyspark.SparkContext(appName=\"Spark1\")"
   ]
  },
  {
   "cell_type": "code",
   "execution_count": 2,
   "metadata": {
    "collapsed": false
   },
   "outputs": [
    {
     "data": {
      "text/html": [
       "<div>\n",
       "<table border=\"1\" class=\"dataframe\">\n",
       "  <thead>\n",
       "    <tr style=\"text-align: right;\">\n",
       "      <th></th>\n",
       "      <th>id</th>\n",
       "      <th>terminal</th>\n",
       "      <th>station</th>\n",
       "      <th>municipal</th>\n",
       "      <th>lat</th>\n",
       "      <th>lng</th>\n",
       "      <th>status</th>\n",
       "    </tr>\n",
       "  </thead>\n",
       "  <tbody>\n",
       "    <tr>\n",
       "      <th>0</th>\n",
       "      <td>3</td>\n",
       "      <td>B32006</td>\n",
       "      <td>Colleges of the Fenway</td>\n",
       "      <td>Boston</td>\n",
       "      <td>42.340021</td>\n",
       "      <td>-71.100812</td>\n",
       "      <td>Existing</td>\n",
       "    </tr>\n",
       "    <tr>\n",
       "      <th>1</th>\n",
       "      <td>4</td>\n",
       "      <td>C32000</td>\n",
       "      <td>Tremont St. at Berkeley St.</td>\n",
       "      <td>Boston</td>\n",
       "      <td>42.345392</td>\n",
       "      <td>-71.069616</td>\n",
       "      <td>Existing</td>\n",
       "    </tr>\n",
       "    <tr>\n",
       "      <th>2</th>\n",
       "      <td>5</td>\n",
       "      <td>B32012</td>\n",
       "      <td>Northeastern U / North Parking Lot</td>\n",
       "      <td>Boston</td>\n",
       "      <td>42.341814</td>\n",
       "      <td>-71.090179</td>\n",
       "      <td>Existing</td>\n",
       "    </tr>\n",
       "    <tr>\n",
       "      <th>3</th>\n",
       "      <td>6</td>\n",
       "      <td>D32000</td>\n",
       "      <td>Cambridge St. at Joy St.</td>\n",
       "      <td>Boston</td>\n",
       "      <td>42.361285</td>\n",
       "      <td>-71.065140</td>\n",
       "      <td>Existing</td>\n",
       "    </tr>\n",
       "    <tr>\n",
       "      <th>4</th>\n",
       "      <td>7</td>\n",
       "      <td>A32000</td>\n",
       "      <td>Fan Pier</td>\n",
       "      <td>Boston</td>\n",
       "      <td>42.353412</td>\n",
       "      <td>-71.044624</td>\n",
       "      <td>Existing</td>\n",
       "    </tr>\n",
       "  </tbody>\n",
       "</table>\n",
       "</div>"
      ],
      "text/plain": [
       "   id terminal                             station municipal        lat  \\\n",
       "0   3   B32006              Colleges of the Fenway    Boston  42.340021   \n",
       "1   4   C32000         Tremont St. at Berkeley St.    Boston  42.345392   \n",
       "2   5   B32012  Northeastern U / North Parking Lot    Boston  42.341814   \n",
       "3   6   D32000            Cambridge St. at Joy St.    Boston  42.361285   \n",
       "4   7   A32000                            Fan Pier    Boston  42.353412   \n",
       "\n",
       "         lng    status  \n",
       "0 -71.100812  Existing  \n",
       "1 -71.069616  Existing  \n",
       "2 -71.090179  Existing  \n",
       "3 -71.065140  Existing  \n",
       "4 -71.044624  Existing  "
      ]
     },
     "execution_count": 2,
     "metadata": {},
     "output_type": "execute_result"
    }
   ],
   "source": [
    "stations_df = prep_data.stations('https://raw.githubusercontent.com/CS109Hubway/classp/master/data/hubway_stations.csv')\n",
    "stations_df.head()"
   ]
  },
  {
   "cell_type": "code",
   "execution_count": 3,
   "metadata": {
    "collapsed": false
   },
   "outputs": [
    {
     "data": {
      "text/html": [
       "<div>\n",
       "<table border=\"1\" class=\"dataframe\">\n",
       "  <thead>\n",
       "    <tr style=\"text-align: right;\">\n",
       "      <th></th>\n",
       "      <th>index</th>\n",
       "      <th>seq_id</th>\n",
       "      <th>hubway_id</th>\n",
       "      <th>status</th>\n",
       "      <th>duration</th>\n",
       "      <th>start_date</th>\n",
       "      <th>strt_statn</th>\n",
       "      <th>end_date</th>\n",
       "      <th>end_statn</th>\n",
       "      <th>bike_nr</th>\n",
       "      <th>...</th>\n",
       "      <th>st_hour</th>\n",
       "      <th>end_hour</th>\n",
       "      <th>st_minute</th>\n",
       "      <th>end_minute</th>\n",
       "      <th>st_month</th>\n",
       "      <th>end_month</th>\n",
       "      <th>st_daydate</th>\n",
       "      <th>end_daydate</th>\n",
       "      <th>st_weekday</th>\n",
       "      <th>end_weekday</th>\n",
       "    </tr>\n",
       "  </thead>\n",
       "  <tbody>\n",
       "    <tr>\n",
       "      <th>0</th>\n",
       "      <td>140521</td>\n",
       "      <td>140522</td>\n",
       "      <td>157655</td>\n",
       "      <td>Closed</td>\n",
       "      <td>189</td>\n",
       "      <td>2012-03-13 18:31:00</td>\n",
       "      <td>29</td>\n",
       "      <td>2012-03-13 18:34:00</td>\n",
       "      <td>18</td>\n",
       "      <td>B00094</td>\n",
       "      <td>...</td>\n",
       "      <td>18</td>\n",
       "      <td>18</td>\n",
       "      <td>1111</td>\n",
       "      <td>1114</td>\n",
       "      <td>3</td>\n",
       "      <td>3</td>\n",
       "      <td>2012-03-13</td>\n",
       "      <td>2012-03-13</td>\n",
       "      <td>1</td>\n",
       "      <td>1</td>\n",
       "    </tr>\n",
       "    <tr>\n",
       "      <th>1</th>\n",
       "      <td>140522</td>\n",
       "      <td>140524</td>\n",
       "      <td>157657</td>\n",
       "      <td>Closed</td>\n",
       "      <td>704</td>\n",
       "      <td>2012-03-15 00:00:00</td>\n",
       "      <td>40</td>\n",
       "      <td>2012-03-15 00:12:00</td>\n",
       "      <td>40</td>\n",
       "      <td>B00082</td>\n",
       "      <td>...</td>\n",
       "      <td>0</td>\n",
       "      <td>0</td>\n",
       "      <td>0</td>\n",
       "      <td>12</td>\n",
       "      <td>3</td>\n",
       "      <td>3</td>\n",
       "      <td>2012-03-15</td>\n",
       "      <td>2012-03-15</td>\n",
       "      <td>3</td>\n",
       "      <td>3</td>\n",
       "    </tr>\n",
       "    <tr>\n",
       "      <th>2</th>\n",
       "      <td>140523</td>\n",
       "      <td>140523</td>\n",
       "      <td>157656</td>\n",
       "      <td>Closed</td>\n",
       "      <td>1700</td>\n",
       "      <td>2012-03-15 00:00:00</td>\n",
       "      <td>7</td>\n",
       "      <td>2012-03-15 00:28:00</td>\n",
       "      <td>15</td>\n",
       "      <td>B00603</td>\n",
       "      <td>...</td>\n",
       "      <td>0</td>\n",
       "      <td>0</td>\n",
       "      <td>0</td>\n",
       "      <td>28</td>\n",
       "      <td>3</td>\n",
       "      <td>3</td>\n",
       "      <td>2012-03-15</td>\n",
       "      <td>2012-03-15</td>\n",
       "      <td>3</td>\n",
       "      <td>3</td>\n",
       "    </tr>\n",
       "    <tr>\n",
       "      <th>3</th>\n",
       "      <td>140524</td>\n",
       "      <td>140525</td>\n",
       "      <td>157658</td>\n",
       "      <td>Closed</td>\n",
       "      <td>1411</td>\n",
       "      <td>2012-03-15 00:00:00</td>\n",
       "      <td>41</td>\n",
       "      <td>2012-03-15 00:24:00</td>\n",
       "      <td>36</td>\n",
       "      <td>B00278</td>\n",
       "      <td>...</td>\n",
       "      <td>0</td>\n",
       "      <td>0</td>\n",
       "      <td>0</td>\n",
       "      <td>24</td>\n",
       "      <td>3</td>\n",
       "      <td>3</td>\n",
       "      <td>2012-03-15</td>\n",
       "      <td>2012-03-15</td>\n",
       "      <td>3</td>\n",
       "      <td>3</td>\n",
       "    </tr>\n",
       "    <tr>\n",
       "      <th>4</th>\n",
       "      <td>140525</td>\n",
       "      <td>140526</td>\n",
       "      <td>157659</td>\n",
       "      <td>Closed</td>\n",
       "      <td>251</td>\n",
       "      <td>2012-03-15 00:03:00</td>\n",
       "      <td>43</td>\n",
       "      <td>2012-03-15 00:07:00</td>\n",
       "      <td>40</td>\n",
       "      <td>B00076</td>\n",
       "      <td>...</td>\n",
       "      <td>0</td>\n",
       "      <td>0</td>\n",
       "      <td>3</td>\n",
       "      <td>7</td>\n",
       "      <td>3</td>\n",
       "      <td>3</td>\n",
       "      <td>2012-03-15</td>\n",
       "      <td>2012-03-15</td>\n",
       "      <td>3</td>\n",
       "      <td>3</td>\n",
       "    </tr>\n",
       "  </tbody>\n",
       "</table>\n",
       "<p>5 rows × 24 columns</p>\n",
       "</div>"
      ],
      "text/plain": [
       "    index  seq_id  hubway_id  status  duration          start_date  \\\n",
       "0  140521  140522     157655  Closed       189 2012-03-13 18:31:00   \n",
       "1  140522  140524     157657  Closed       704 2012-03-15 00:00:00   \n",
       "2  140523  140523     157656  Closed      1700 2012-03-15 00:00:00   \n",
       "3  140524  140525     157658  Closed      1411 2012-03-15 00:00:00   \n",
       "4  140525  140526     157659  Closed       251 2012-03-15 00:03:00   \n",
       "\n",
       "   strt_statn            end_date  end_statn bike_nr     ...      st_hour  \\\n",
       "0          29 2012-03-13 18:34:00         18  B00094     ...           18   \n",
       "1          40 2012-03-15 00:12:00         40  B00082     ...            0   \n",
       "2           7 2012-03-15 00:28:00         15  B00603     ...            0   \n",
       "3          41 2012-03-15 00:24:00         36  B00278     ...            0   \n",
       "4          43 2012-03-15 00:07:00         40  B00076     ...            0   \n",
       "\n",
       "  end_hour  st_minute end_minute  st_month  end_month  st_daydate  \\\n",
       "0       18       1111       1114         3          3  2012-03-13   \n",
       "1        0          0         12         3          3  2012-03-15   \n",
       "2        0          0         28         3          3  2012-03-15   \n",
       "3        0          0         24         3          3  2012-03-15   \n",
       "4        0          3          7         3          3  2012-03-15   \n",
       "\n",
       "   end_daydate  st_weekday  end_weekday  \n",
       "0   2012-03-13           1            1  \n",
       "1   2012-03-15           3            3  \n",
       "2   2012-03-15           3            3  \n",
       "3   2012-03-15           3            3  \n",
       "4   2012-03-15           3            3  \n",
       "\n",
       "[5 rows x 24 columns]"
      ]
     },
     "execution_count": 3,
     "metadata": {},
     "output_type": "execute_result"
    }
   ],
   "source": [
    "trips_df = prep_data.trips('https://raw.githubusercontent.com/CS109Hubway/classp/master/data/tripsthrough2012.csv')\n",
    "trips_df.head()"
   ]
  },
  {
   "cell_type": "code",
   "execution_count": 4,
   "metadata": {
    "collapsed": false
   },
   "outputs": [
    {
     "name": "stdout",
     "output_type": "stream",
     "text": [
      "index                       140521\n",
      "seq_id                      140522\n",
      "hubway_id                   157655\n",
      "status                      Closed\n",
      "duration                       189\n",
      "start_date     2012-03-13 18:31:00\n",
      "strt_statn                      29\n",
      "end_date       2012-03-13 18:34:00\n",
      "end_statn                       18\n",
      "bike_nr                     B00094\n",
      "subsc_type              Registered\n",
      "zip_code                    '02446\n",
      "birth_date                    1988\n",
      "gender                      Female\n",
      "st_hour                         18\n",
      "end_hour                        18\n",
      "st_minute                     1111\n",
      "end_minute                    1114\n",
      "st_month                         3\n",
      "end_month                        3\n",
      "st_daydate              2012-03-13\n",
      "end_daydate             2012-03-13\n",
      "st_weekday                       1\n",
      "end_weekday                      1\n",
      "Name: 0, dtype: object\n"
     ]
    }
   ],
   "source": [
    "for index, row in trips_df.iterrows():\n",
    "    print row\n",
    "    break"
   ]
  },
  {
   "cell_type": "code",
   "execution_count": 34,
   "metadata": {
    "collapsed": false
   },
   "outputs": [
    {
     "name": "stderr",
     "output_type": "stream",
     "text": [
      "/anaconda/lib/python2.7/site-packages/ipykernel/__main__.py:1: DeprecationWarning: using a non-integer number instead of an integer will result in an error in the future\n",
      "  if __name__ == '__main__':\n",
      "/anaconda/lib/python2.7/site-packages/ipykernel/__main__.py:2: DeprecationWarning: using a non-integer number instead of an integer will result in an error in the future\n",
      "  from ipykernel import kernelapp as app\n"
     ]
    }
   ],
   "source": []
  },
  {
   "cell_type": "code",
   "execution_count": 35,
   "metadata": {
    "collapsed": false
   },
   "outputs": [],
   "source": [
    "day_set = set(trips_df.st_daydate.tolist())\n",
    "day_set |= set(trips_df.end_daydate.tolist())\n",
    "day_set = sorted(list(day_set))"
   ]
  },
  {
   "cell_type": "code",
   "execution_count": 36,
   "metadata": {
    "collapsed": false
   },
   "outputs": [
    {
     "name": "stdout",
     "output_type": "stream",
     "text": [
      "2012-11-28\n",
      "2012-03-13\n",
      "260\n",
      "141.0\n"
     ]
    }
   ],
   "source": [
    "print trips_df.st_daydate.max()\n",
    "print trips_df.st_daydate.min()\n",
    "print len(trips_df.st_daydate.unique())\n",
    "print trips_df.strt_statn.max()"
   ]
  },
  {
   "cell_type": "code",
   "execution_count": 45,
   "metadata": {
    "collapsed": false,
    "scrolled": true
   },
   "outputs": [
    {
     "name": "stderr",
     "output_type": "stream",
     "text": [
      "/anaconda/lib/python2.7/site-packages/ipykernel/__main__.py:1: DeprecationWarning: using a non-integer number instead of an integer will result in an error in the future\n",
      "  if __name__ == '__main__':\n",
      "/anaconda/lib/python2.7/site-packages/ipykernel/__main__.py:2: DeprecationWarning: using a non-integer number instead of an integer will result in an error in the future\n",
      "  from ipykernel import kernelapp as app\n",
      "/anaconda/lib/python2.7/site-packages/ipykernel/__main__.py:14: DeprecationWarning: using a non-integer number instead of an integer will result in an error in the future\n"
     ]
    },
    {
     "name": "stdout",
     "output_type": "stream",
     "text": [
      "533828\n"
     ]
    },
    {
     "name": "stderr",
     "output_type": "stream",
     "text": [
      "/anaconda/lib/python2.7/site-packages/ipykernel/__main__.py:23: DeprecationWarning: using a non-integer number instead of an integer will result in an error in the future\n"
     ]
    }
   ],
   "source": [
    "out_minutes_series = np.zeros([trips_df.strt_statn.max() + 1,len(trips_df.st_daydate.unique())*24*60])\n",
    "in_minutes_series = np.zeros([trips_df.end_statn.max() + 1,len(trips_df.end_daydate.unique())*24*60])\n",
    "\n",
    "for index, row in trips_df.iterrows():\n",
    "    print \"\\r\" + str(index),\n",
    "    \n",
    "    if row[6] != row[6]:\n",
    "        continue\n",
    "    \n",
    "    st_station  = row[6]\n",
    "    st_minute   = row[16]\n",
    "    st_day = day_set.index(row[20])    \n",
    "\n",
    "    out_minutes_series[st_station,st_day*24*60 + st_minute] += 1\n",
    "\n",
    "    if row[8] != row[8]:\n",
    "        continue\n",
    "\n",
    "    end_station = row[8]\n",
    "    end_minute  = row[17]    \n",
    "    end_day = day_set.index(row[21])\n",
    "    \n",
    "    in_minutes_series[end_station, end_day*24*60 + end_minute] += 1\n"
   ]
  },
  {
   "cell_type": "code",
   "execution_count": 51,
   "metadata": {
    "collapsed": false
   },
   "outputs": [
    {
     "data": {
      "text/plain": [
       "[<matplotlib.lines.Line2D at 0x132a68650>]"
      ]
     },
     "execution_count": 51,
     "metadata": {},
     "output_type": "execute_result"
    },
    {
     "data": {
      "image/png": "[encoded data removed]",
      "text/plain": [
       "<matplotlib.figure.Figure at 0x132f36510>"
      ]
     },
     "metadata": {},
     "output_type": "display_data"
    }
   ],
   "source": [
    "plt.plot(out_minutes_series[22,:])"
   ]
  },
  {
   "cell_type": "code",
   "execution_count": 63,
   "metadata": {
    "collapsed": true
   },
   "outputs": [],
   "source": [
    "min_per_interval = 30\n",
    "ints = 0\n",
    "timeseries_matrix_30minute_out = np.zeros(len(out_minutes_series[22,:])/min_per_interval)\n",
    "while ints < len(timeseries_matrix_10minute_out):\n",
    "    int_sum = 0\n",
    "    for i in range(min_per_interval):\n",
    "        int_sum += out_minutes_series[22,ints*min_per_interval + i]\n",
    "    timeseries_matrix_30minute_out[ints] = int_sum\n",
    "    ints +=1"
   ]
  },
  {
   "cell_type": "code",
   "execution_count": 64,
   "metadata": {
    "collapsed": false
   },
   "outputs": [
    {
     "data": {
      "text/plain": [
       "[<matplotlib.lines.Line2D at 0x11d5fbd10>]"
      ]
     },
     "execution_count": 64,
     "metadata": {},
     "output_type": "execute_result"
    },
    {
     "data": {
      "image/png": "[encoded data removed]",
      "text/plain": [
       "<matplotlib.figure.Figure at 0x11c1b4110>"
      ]
     },
     "metadata": {},
     "output_type": "display_data"
    }
   ],
   "source": [
    "plt.plot(timeseries_matrix_30minute_out)"
   ]
  },
  {
   "cell_type": "code",
   "execution_count": 65,
   "metadata": {
    "collapsed": false
   },
   "outputs": [
    {
     "data": {
      "image/png": "[encoded data removed]",
      "text/plain": [
       "<matplotlib.figure.Figure at 0x11d620450>"
      ]
     },
     "metadata": {},
     "output_type": "display_data"
    }
   ],
   "source": [
    "tsaplots.plot_acf(timeseries_matrix_30minute_out, lags=10);"
   ]
  },
  {
   "cell_type": "code",
   "execution_count": null,
   "metadata": {
    "collapsed": false
   },
   "outputs": [
    {
     "name": "stdout",
     "output_type": "stream",
     "text": [
      " [                  1%                  ] 93 of 5000 complete in 11.9 sec"
     ]
    }
   ],
   "source": [
    "#estimate these\n",
    "N = len(timeseries_matrix_30minute_out[:500])\n",
    "\n",
    "# a1n(xn-1) + a2n(xn-2) + a3n(xn-3) +a4n(xn-4) + a5n(xn-5) + a6n(xn-6)\n",
    "\n",
    "alphas = pm.Container([pm.Uniform('alpha_%i' %i,lower = -10,upper = 10) for i in range((N-6)*6)])\n",
    "\n",
    "sigma_squared = pm.Uniform('sigma_squared',lower=0,upper=10)\n",
    "\n",
    "mus = pm.Container([alphas[i]*timeseries_matrix_30minute_out[i-1] + \\\n",
    "                    alphas[i+1]*timeseries_matrix_30minute_out[i-2] + \\\n",
    "                    alphas[i+2]*timeseries_matrix_30minute_out[i-3] + \\\n",
    "                    alphas[i+3]*timeseries_matrix_30minute_out[i-4] + \\\n",
    "                    alphas[i+4]*timeseries_matrix_30minute_out[i-5] + \\\n",
    "                    alphas[i+5]*timeseries_matrix_30minute_out[i-6] \\\n",
    "                    for i in range(6,N)])\n",
    "\n",
    "#init_likelihood = pm.Normal('init_likelihood', mu = 0, tau = 1/sigma_squared, value = timeseries_matrix_30minute_out[0], observed = True)\n",
    "\n",
    "likelihood = pm.Container([pm.Normal('likelihood_%i' %i, mu = mus[i-6], tau = 1.0/sigma_squared, value = timeseries_matrix_30minute_out[i], observed = True) for i in range (6,N)])\n",
    "\n",
    "posterior = pm.Model([alphas, mus, sigma_squared, likelihood])\n",
    "\n",
    "mcmc = pm.MCMC(posterior)\n",
    "mcmc.sample(iter=5000,burn=500)"
   ]
  },
  {
   "cell_type": "code",
   "execution_count": null,
   "metadata": {
    "collapsed": true
   },
   "outputs": [],
   "source": []
  }
 ],
 "metadata": {
  "kernelspec": {
   "display_name": "Python 2",
   "language": "python",
   "name": "python2"
  },
  "language_info": {
   "codemirror_mode": {
    "name": "ipython",
    "version": 2
   },
   "file_extension": ".py",
   "mimetype": "text/x-python",
   "name": "python",
   "nbconvert_exporter": "python",
   "pygments_lexer": "ipython2",
   "version": "2.7.11"
  }
 },
 "nbformat": 4,
 "nbformat_minor": 0
}
